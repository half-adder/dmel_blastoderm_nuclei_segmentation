{
 "cells": [
  {
   "cell_type": "code",
   "execution_count": 18,
   "id": "84d60cde-a11e-4d72-a727-97405e2498dd",
   "metadata": {},
   "outputs": [],
   "source": [
    "from tifffile import imread, imwrite\n",
    "\n",
    "from stardist.models import StarDist2D\n",
    "from stardist import random_label_cmap, _draw_polygons\n",
    "\n",
    "from csbdeep.utils import normalize\n",
    "from tqdm import tqdm\n",
    "\n",
    "import matplotlib.pyplot as plt\n",
    "import numpy as np\n",
    "\n",
    "lbl_cmap = random_label_cmap()"
   ]
  },
  {
   "cell_type": "code",
   "execution_count": null,
   "id": "abfa82d0-19d0-40e1-b707-7ab0c58b8594",
   "metadata": {},
   "outputs": [],
   "source": [
    "full_size = normalize(imread(\"data/other/2024-09-17 sfmbt-gfp nc12 - STACK.tif\"), 1, 99.8, axis=(0,1))"
   ]
  },
  {
   "cell_type": "code",
   "execution_count": null,
   "id": "f4251049-f1c6-446f-bcb4-6176a6449af8",
   "metadata": {},
   "outputs": [],
   "source": [
    "model = StarDist2D(None, name='2024-09-25T16:24:47', basedir='models')"
   ]
  },
  {
   "cell_type": "code",
   "execution_count": null,
   "id": "a656d95b-e089-48e9-bdf0-82e1c86a6b10",
   "metadata": {},
   "outputs": [],
   "source": [
    "full_size.shape"
   ]
  },
  {
   "cell_type": "code",
   "execution_count": 13,
   "id": "5240eb2b-b789-4eff-9398-a0e870512c29",
   "metadata": {},
   "outputs": [
    {
     "name": "stderr",
     "output_type": "stream",
     "text": [
      "  0%|          | 0/225 [00:00<?, ?it/s]WARNING: All log messages before absl::InitializeLog() is called are written to STDERR\n",
      "I0000 00:00:1727316368.082995 1222374 service.cc:146] XLA service 0x7fb51c028c90 initialized for platform CUDA (this does not guarantee that XLA will be used). Devices:\n",
      "I0000 00:00:1727316368.083026 1222374 service.cc:154]   StreamExecutor device (0): NVIDIA GeForce GTX 1080, Compute Capability 6.1\n",
      "2024-09-25 22:06:08.140073: I tensorflow/compiler/mlir/tensorflow/utils/dump_mlir_util.cc:268] disabling MLIR crash reproducer, set env var `MLIR_CRASH_REPRODUCER_DIRECTORY` to enable.\n",
      "2024-09-25 22:06:08.338437: I external/local_xla/xla/stream_executor/cuda/cuda_dnn.cc:531] Loaded cuDNN version 8907\n",
      "WARNING: All log messages before absl::InitializeLog() is called are written to STDERR\n",
      "E0000 00:00:1727316369.214332 1222374 gpu_timer.cc:183] Delay kernel timed out: measured time has sub-optimal accuracy. There may be a missing warmup execution, please investigate in Nsight Systems.\n",
      "E0000 00:00:1727316369.341331 1222374 gpu_timer.cc:183] Delay kernel timed out: measured time has sub-optimal accuracy. There may be a missing warmup execution, please investigate in Nsight Systems.\n",
      "E0000 00:00:1727316369.851966 1222374 gpu_timer.cc:183] Delay kernel timed out: measured time has sub-optimal accuracy. There may be a missing warmup execution, please investigate in Nsight Systems.\n",
      "E0000 00:00:1727316369.995275 1222374 gpu_timer.cc:183] Delay kernel timed out: measured time has sub-optimal accuracy. There may be a missing warmup execution, please investigate in Nsight Systems.\n",
      "2024-09-25 22:06:10.018553: W external/local_tsl/tsl/framework/bfc_allocator.cc:291] Allocator (GPU_0_bfc) ran out of memory trying to allocate 9.02GiB with freed_by_count=0. The caller indicates that this is not a failure, but this may mean that there could be performance gains if more memory were available.\n",
      "I0000 00:00:1727316371.312589 1222374 device_compiler.h:188] Compiled cluster using XLA!  This line is logged at most once for the lifetime of the process.\n",
      "100%|██████████| 225/225 [00:30<00:00,  7.29it/s]\n"
     ]
    }
   ],
   "source": [
    "y = []\n",
    "\n",
    "for x in tqdm(full_size):\n",
    "    # print(np.shape(x))\n",
    "    labels, details = model.predict_instances(x)\n",
    "    y.append(labels)\n",
    "\n",
    "y = np.array(y)"
   ]
  },
  {
   "cell_type": "code",
   "execution_count": 17,
   "id": "991b05ba-46ac-4f9b-9474-fc465d6c8509",
   "metadata": {},
   "outputs": [],
   "source": [
    "y = np.array(y)"
   ]
  },
  {
   "cell_type": "code",
   "execution_count": 19,
   "id": "e5062a76-ed7d-47d6-98cb-88218789c730",
   "metadata": {},
   "outputs": [],
   "source": [
    "imwrite(\"data/other/2024-09-17 sfmbt-gfp nc12 - STACK.label.tif\", y)"
   ]
  },
  {
   "cell_type": "code",
   "execution_count": null,
   "id": "3686976e-f48e-4da1-8b34-d8cedcc675dd",
   "metadata": {},
   "outputs": [],
   "source": []
  }
 ],
 "metadata": {
  "kernelspec": {
   "display_name": "Python 3 (ipykernel)",
   "language": "python",
   "name": "python3"
  },
  "language_info": {
   "codemirror_mode": {
    "name": "ipython",
    "version": 3
   },
   "file_extension": ".py",
   "mimetype": "text/x-python",
   "name": "python",
   "nbconvert_exporter": "python",
   "pygments_lexer": "ipython3",
   "version": "3.12.5"
  }
 },
 "nbformat": 4,
 "nbformat_minor": 5
}
