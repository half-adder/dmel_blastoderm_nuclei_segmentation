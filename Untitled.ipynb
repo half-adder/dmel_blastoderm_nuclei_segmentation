{
 "cells": [
  {
   "cell_type": "code",
   "execution_count": 1,
   "id": "39fe8781-c56b-44fa-9ff8-6ecd27b61f22",
   "metadata": {},
   "outputs": [
    {
     "name": "stderr",
     "output_type": "stream",
     "text": [
      "2024-09-24 15:51:07.791930: E external/local_xla/xla/stream_executor/cuda/cuda_fft.cc:477] Unable to register cuFFT factory: Attempting to register factory for plugin cuFFT when one has already been registered\n",
      "WARNING: All log messages before absl::InitializeLog() is called are written to STDERR\n",
      "E0000 00:00:1727207467.990646 1168222 cuda_dnn.cc:8310] Unable to register cuDNN factory: Attempting to register factory for plugin cuDNN when one has already been registered\n",
      "E0000 00:00:1727207468.040084 1168222 cuda_blas.cc:1418] Unable to register cuBLAS factory: Attempting to register factory for plugin cuBLAS when one has already been registered\n",
      "2024-09-24 15:51:08.458334: I tensorflow/core/platform/cpu_feature_guard.cc:210] This TensorFlow binary is optimized to use available CPU instructions in performance-critical operations.\n",
      "To enable the following instructions: AVX2 FMA, in other operations, rebuild TensorFlow with the appropriate compiler flags.\n",
      "/nas/longleaf/home/seanjohn/.conda/envs/bioimg/lib/python3.10/site-packages/scipy/__init__.py:146: UserWarning: A NumPy version >=1.16.5 and <1.23.0 is required for this version of SciPy (detected version 1.26.0\n",
      "  warnings.warn(f\"A NumPy version >={np_minversion} and <{np_maxversion}\"\n"
     ]
    },
    {
     "name": "stdout",
     "output_type": "stream",
     "text": [
      "[]\n"
     ]
    },
    {
     "name": "stderr",
     "output_type": "stream",
     "text": [
      "2024-09-24 15:51:12.911293: E external/local_xla/xla/stream_executor/cuda/cuda_driver.cc:152] failed call to cuInit: INTERNAL: CUDA error: Failed call to cuInit: UNKNOWN ERROR (34)\n",
      "2024-09-24 15:51:12.911341: I external/local_xla/xla/stream_executor/cuda/cuda_diagnostics.cc:137] retrieving CUDA diagnostic information for host: g1416ood06.ll.unc.edu\n",
      "2024-09-24 15:51:12.911348: I external/local_xla/xla/stream_executor/cuda/cuda_diagnostics.cc:144] hostname: g1416ood06.ll.unc.edu\n",
      "2024-09-24 15:51:12.911535: I external/local_xla/xla/stream_executor/cuda/cuda_diagnostics.cc:168] libcuda reported version is: NOT_FOUND: was unable to find libcuda.so DSO loaded into this program\n",
      "2024-09-24 15:51:12.911571: I external/local_xla/xla/stream_executor/cuda/cuda_diagnostics.cc:172] kernel reported version is: 550.90.12\n"
     ]
    }
   ],
   "source": [
    "import tensorflow as tf\n",
    "print(tf.config.list_physical_devices('GPU'))"
   ]
  },
  {
   "cell_type": "code",
   "execution_count": 2,
   "id": "2b0a86bb-c760-4576-b102-dea9696072a8",
   "metadata": {},
   "outputs": [],
   "source": [
    "import tifffile\n",
    "\n",
    "from __future__ import print_function, unicode_literals, absolute_import, division\n",
    "import sys\n",
    "import numpy as np\n",
    "import matplotlib\n",
    "matplotlib.rcParams[\"image.interpolation\"] = 'none'\n",
    "import matplotlib.pyplot as plt\n",
    "%matplotlib inline\n",
    "%config InlineBackend.figure_format = 'retina'\n",
    "\n",
    "from glob import glob\n",
    "from tqdm import tqdm\n",
    "from tifffile import imread\n",
    "from csbdeep.utils import Path, normalize\n",
    "\n",
    "from stardist import fill_label_holes, random_label_cmap, calculate_extents, gputools_available\n",
    "from stardist.matching import matching, matching_dataset\n",
    "from stardist.models import Config2D, StarDist2D, StarDistData2D\n",
    "\n",
    "np.random.seed(42)\n",
    "lbl_cmap = random_label_cmap()"
   ]
  },
  {
   "cell_type": "code",
   "execution_count": 3,
   "id": "3f2289d9-025e-4942-abed-cf3e0677f76b",
   "metadata": {},
   "outputs": [],
   "source": [
    "X = tifffile.imread(\"data/blastoderm_nuclei_180x180.tif\")[:26]\n",
    "Y = tifffile.imread(\"data/blastoderm_nuclei_180x180_LABELING.tif\")[:26]\n",
    "\n",
    "X = normalize(X,1,99.8,axis=(0,1,2))"
   ]
  },
  {
   "cell_type": "code",
   "execution_count": 4,
   "id": "acf7d29f-b071-426b-ba53-e05503986798",
   "metadata": {},
   "outputs": [
    {
     "name": "stdout",
     "output_type": "stream",
     "text": [
      "number of images:  26\n",
      "- training:        22\n",
      "- validation:       4\n"
     ]
    }
   ],
   "source": [
    "assert len(X) > 1, \"not enough training data\"\n",
    "rng = np.random.RandomState(42)\n",
    "ind = rng.permutation(len(X))\n",
    "n_val = max(1, int(round(0.15 * len(ind))))\n",
    "ind_train, ind_val = ind[:-n_val], ind[-n_val:]\n",
    "X_val, Y_val = [X[i] for i in ind_val]  , [Y[i] for i in ind_val]\n",
    "X_trn, Y_trn = [X[i] for i in ind_train], [Y[i] for i in ind_train] \n",
    "print('number of images: %3d' % len(X))\n",
    "print('- training:       %3d' % len(X_trn))\n",
    "print('- validation:     %3d' % len(X_val))"
   ]
  },
  {
   "cell_type": "code",
   "execution_count": 5,
   "id": "83f50e01-e11d-4f94-8887-37d2c854bde4",
   "metadata": {},
   "outputs": [],
   "source": [
    "def plot_img_label(img, lbl, img_title=\"image\", lbl_title=\"label\", **kwargs):\n",
    "    fig, (ai,al) = plt.subplots(1,2, figsize=(12,5), gridspec_kw=dict(width_ratios=(1.25,1)))\n",
    "    im = ai.imshow(img, cmap='gray', clim=(0,1))\n",
    "    ai.set_title(img_title)    \n",
    "    fig.colorbar(im, ax=ai)\n",
    "    al.imshow(lbl, cmap=lbl_cmap)\n",
    "    al.set_title(lbl_title)\n",
    "    plt.tight_layout()"
   ]
  },
  {
   "cell_type": "code",
   "execution_count": 6,
   "id": "23ec7efe-bd4b-47cc-90dd-514db8622703",
   "metadata": {},
   "outputs": [
    {
     "name": "stderr",
     "output_type": "stream",
     "text": [
      "persistent_dict.py (63): Unable to import recommended hash 'siphash24.siphash13', falling back to 'hashlib.sha256'. Run 'python3 -m pip install siphash24' to install the recommended hash.\n",
      "__init__.py (519): Non-empty compiler output encountered. Set the environment variable PYOPENCL_COMPILER_OUTPUT=1 to see more.\n"
     ]
    },
    {
     "name": "stdout",
     "output_type": "stream",
     "text": [
      "Warning: Could not find scikit-tensor which is needed for separable approximations...\n",
      "If you want to compute separable approximations, please install it with\n",
      "pip install scikit-tensor-py3\n"
     ]
    },
    {
     "data": {
      "text/plain": [
       "True"
      ]
     },
     "execution_count": 6,
     "metadata": {},
     "output_type": "execute_result"
    }
   ],
   "source": [
    "gputools_available()"
   ]
  },
  {
   "cell_type": "code",
   "execution_count": 7,
   "id": "5ca75e29-1457-41a1-a227-cfcafe7084f2",
   "metadata": {},
   "outputs": [
    {
     "name": "stdout",
     "output_type": "stream",
     "text": [
      "Config2D(n_dim=2, axes='YXC', n_channel_in=1, n_channel_out=33, train_checkpoint='weights_best.h5', train_checkpoint_last='weights_last.h5', train_checkpoint_epoch='weights_now.h5', n_rays=32, grid=(4, 4), backbone='unet', n_classes=None, unet_n_depth=3, unet_kernel_size=(3, 3), unet_n_filter_base=32, unet_n_conv_per_depth=2, unet_pool=(2, 2), unet_activation='relu', unet_last_activation='relu', unet_batch_norm=False, unet_dropout=0.0, unet_prefix='', net_conv_after_unet=128, net_input_shape=(None, None, 1), net_mask_shape=(None, None, 1), train_shape_completion=False, train_completion_crop=32, train_patch_size=(96, 96), train_background_reg=0.0001, train_foreground_only=0.9, train_sample_cache=True, train_dist_loss='mae', train_loss_weights=(1, 0.2), train_class_weights=(1, 1), train_epochs=400, train_steps_per_epoch=100, train_learning_rate=0.0003, train_batch_size=4, train_n_val_patches=None, train_tensorboard=True, train_reduce_lr={'factor': 0.5, 'patience': 40, 'min_delta': 0}, use_gpu=True)\n"
     ]
    },
    {
     "data": {
      "text/plain": [
       "{'n_dim': 2,\n",
       " 'axes': 'YXC',\n",
       " 'n_channel_in': 1,\n",
       " 'n_channel_out': 33,\n",
       " 'train_checkpoint': 'weights_best.h5',\n",
       " 'train_checkpoint_last': 'weights_last.h5',\n",
       " 'train_checkpoint_epoch': 'weights_now.h5',\n",
       " 'n_rays': 32,\n",
       " 'grid': (4, 4),\n",
       " 'backbone': 'unet',\n",
       " 'n_classes': None,\n",
       " 'unet_n_depth': 3,\n",
       " 'unet_kernel_size': (3, 3),\n",
       " 'unet_n_filter_base': 32,\n",
       " 'unet_n_conv_per_depth': 2,\n",
       " 'unet_pool': (2, 2),\n",
       " 'unet_activation': 'relu',\n",
       " 'unet_last_activation': 'relu',\n",
       " 'unet_batch_norm': False,\n",
       " 'unet_dropout': 0.0,\n",
       " 'unet_prefix': '',\n",
       " 'net_conv_after_unet': 128,\n",
       " 'net_input_shape': (None, None, 1),\n",
       " 'net_mask_shape': (None, None, 1),\n",
       " 'train_shape_completion': False,\n",
       " 'train_completion_crop': 32,\n",
       " 'train_patch_size': (96, 96),\n",
       " 'train_background_reg': 0.0001,\n",
       " 'train_foreground_only': 0.9,\n",
       " 'train_sample_cache': True,\n",
       " 'train_dist_loss': 'mae',\n",
       " 'train_loss_weights': (1, 0.2),\n",
       " 'train_class_weights': (1, 1),\n",
       " 'train_epochs': 400,\n",
       " 'train_steps_per_epoch': 100,\n",
       " 'train_learning_rate': 0.0003,\n",
       " 'train_batch_size': 4,\n",
       " 'train_n_val_patches': None,\n",
       " 'train_tensorboard': True,\n",
       " 'train_reduce_lr': {'factor': 0.5, 'patience': 40, 'min_delta': 0},\n",
       " 'use_gpu': True}"
      ]
     },
     "execution_count": 7,
     "metadata": {},
     "output_type": "execute_result"
    }
   ],
   "source": [
    "# 32 is a good default choice (see 1_data.ipynb)\n",
    "n_rays = 32\n",
    "\n",
    "# Use OpenCL-based computations for data generator during training (requires 'gputools')\n",
    "use_gpu = True and gputools_available()\n",
    "\n",
    "# Predict on subsampled grid for increased efficiency and larger field of view\n",
    "grid = (4,4)\n",
    "\n",
    "conf = Config2D (\n",
    "    n_rays       = n_rays,\n",
    "    grid         = grid,\n",
    "    use_gpu      = use_gpu,\n",
    "    n_channel_in = 1,\n",
    "    train_patch_size = (96,96),\n",
    ")\n",
    "print(conf)\n",
    "vars(conf)"
   ]
  },
  {
   "cell_type": "code",
   "execution_count": 8,
   "id": "524e6cf5-3e84-4933-8aa9-3fd2ed194a96",
   "metadata": {},
   "outputs": [
    {
     "name": "stderr",
     "output_type": "stream",
     "text": [
      "2024-09-24 14:21:24.723063: I tensorflow/core/common_runtime/gpu/gpu_device.cc:2021] Created device /job:localhost/replica:0/task:0/device:GPU:0 with 8035 MB memory:  -> device: 0, name: NVIDIA A100-PCIE-40GB MIG 2g.10gb, pci bus id: 0000:e2:00.0, compute capability: 8.0\n"
     ]
    },
    {
     "name": "stdout",
     "output_type": "stream",
     "text": [
      "Using default values: prob_thresh=0.5, nms_thresh=0.4.\n"
     ]
    }
   ],
   "source": [
    "model = StarDist2D(conf, name='stardist', basedir='models')"
   ]
  },
  {
   "cell_type": "code",
   "execution_count": 9,
   "id": "fe91e9c4-7ec0-402e-830c-02d2d678029e",
   "metadata": {},
   "outputs": [
    {
     "name": "stderr",
     "output_type": "stream",
     "text": [
      "WARNING: All log messages before absl::InitializeLog() is called are written to STDERR\n",
      "I0000 00:00:1727202091.025580 1149873 service.cc:146] XLA service 0x7fde60008790 initialized for platform CUDA (this does not guarantee that XLA will be used). Devices:\n",
      "I0000 00:00:1727202091.025608 1149873 service.cc:154]   StreamExecutor device (0): NVIDIA A100-PCIE-40GB MIG 2g.10gb, Compute Capability 8.0\n",
      "2024-09-24 14:21:31.074478: I tensorflow/compiler/mlir/tensorflow/utils/dump_mlir_util.cc:268] disabling MLIR crash reproducer, set env var `MLIR_CRASH_REPRODUCER_DIRECTORY` to enable.\n",
      "2024-09-24 14:21:31.194461: E external/local_xla/xla/stream_executor/cuda/cuda_dnn.cc:524] Loaded runtime CuDNN library: 8.8.1 but source was compiled with: 8.9.6.  CuDNN library needs to have matching major version and equal or higher minor version. If using a binary install, upgrade your CuDNN library.  If building from sources, make sure the library loaded at runtime is compatible with the version specified during compile configuration.\n",
      "2024-09-24 14:21:31.208991: E external/local_xla/xla/stream_executor/cuda/cuda_dnn.cc:524] Loaded runtime CuDNN library: 8.8.1 but source was compiled with: 8.9.6.  CuDNN library needs to have matching major version and equal or higher minor version. If using a binary install, upgrade your CuDNN library.  If building from sources, make sure the library loaded at runtime is compatible with the version specified during compile configuration.\n",
      "2024-09-24 14:21:31.211925: W tensorflow/core/framework/op_kernel.cc:1840] OP_REQUIRES failed at xla_ops.cc:577 : FAILED_PRECONDITION: DNN library initialization failed. Look at the errors above for more details.\n",
      "2024-09-24 14:21:31.211955: I tensorflow/core/framework/local_rendezvous.cc:404] Local rendezvous is aborting with status: FAILED_PRECONDITION: DNN library initialization failed. Look at the errors above for more details.\n",
      "\t [[{{node StatefulPartitionedCall}}]]\n"
     ]
    },
    {
     "ename": "FailedPreconditionError",
     "evalue": "Graph execution error:\n\nDetected at node StatefulPartitionedCall defined at (most recent call last):\n  File \"/nas/longleaf/home/seanjohn/.conda/envs/bioimg/lib/python3.10/runpy.py\", line 196, in _run_module_as_main\n\n  File \"/nas/longleaf/home/seanjohn/.conda/envs/bioimg/lib/python3.10/runpy.py\", line 86, in _run_code\n\n  File \"/nas/longleaf/home/seanjohn/.conda/envs/bioimg/lib/python3.10/site-packages/ipykernel_launcher.py\", line 16, in <module>\n\n  File \"/nas/longleaf/home/seanjohn/.conda/envs/bioimg/lib/python3.10/site-packages/traitlets/config/application.py\", line 846, in launch_instance\n\n  File \"/nas/longleaf/home/seanjohn/.conda/envs/bioimg/lib/python3.10/site-packages/ipykernel/kernelapp.py\", line 677, in start\n\n  File \"/nas/longleaf/home/seanjohn/.conda/envs/bioimg/lib/python3.10/site-packages/tornado/platform/asyncio.py\", line 199, in start\n\n  File \"/nas/longleaf/home/seanjohn/.conda/envs/bioimg/lib/python3.10/asyncio/base_events.py\", line 600, in run_forever\n\n  File \"/nas/longleaf/home/seanjohn/.conda/envs/bioimg/lib/python3.10/asyncio/base_events.py\", line 1896, in _run_once\n\n  File \"/nas/longleaf/home/seanjohn/.conda/envs/bioimg/lib/python3.10/asyncio/events.py\", line 80, in _run\n\n  File \"/nas/longleaf/home/seanjohn/.conda/envs/bioimg/lib/python3.10/site-packages/ipykernel/kernelbase.py\", line 471, in dispatch_queue\n\n  File \"/nas/longleaf/home/seanjohn/.conda/envs/bioimg/lib/python3.10/site-packages/ipykernel/kernelbase.py\", line 460, in process_one\n\n  File \"/nas/longleaf/home/seanjohn/.conda/envs/bioimg/lib/python3.10/site-packages/ipykernel/kernelbase.py\", line 367, in dispatch_shell\n\n  File \"/nas/longleaf/home/seanjohn/.conda/envs/bioimg/lib/python3.10/site-packages/ipykernel/kernelbase.py\", line 662, in execute_request\n\n  File \"/nas/longleaf/home/seanjohn/.conda/envs/bioimg/lib/python3.10/site-packages/ipykernel/ipkernel.py\", line 360, in do_execute\n\n  File \"/nas/longleaf/home/seanjohn/.conda/envs/bioimg/lib/python3.10/site-packages/ipykernel/zmqshell.py\", line 532, in run_cell\n\n  File \"/nas/longleaf/home/seanjohn/.conda/envs/bioimg/lib/python3.10/site-packages/IPython/core/interactiveshell.py\", line 2881, in run_cell\n\n  File \"/nas/longleaf/home/seanjohn/.conda/envs/bioimg/lib/python3.10/site-packages/IPython/core/interactiveshell.py\", line 2936, in _run_cell\n\n  File \"/nas/longleaf/home/seanjohn/.conda/envs/bioimg/lib/python3.10/site-packages/IPython/core/async_helpers.py\", line 129, in _pseudo_sync_runner\n\n  File \"/nas/longleaf/home/seanjohn/.conda/envs/bioimg/lib/python3.10/site-packages/IPython/core/interactiveshell.py\", line 3135, in run_cell_async\n\n  File \"/nas/longleaf/home/seanjohn/.conda/envs/bioimg/lib/python3.10/site-packages/IPython/core/interactiveshell.py\", line 3338, in run_ast_nodes\n\n  File \"/nas/longleaf/home/seanjohn/.conda/envs/bioimg/lib/python3.10/site-packages/IPython/core/interactiveshell.py\", line 3398, in run_code\n\n  File \"/tmp/ipykernel_1149825/2119120405.py\", line 2, in <cell line: 2>\n\n  File \"/nas/longleaf/home/seanjohn/.conda/envs/bioimg/lib/python3.10/site-packages/stardist/models/base.py\", line 1105, in _axes_tile_overlap\n\n  File \"/nas/longleaf/home/seanjohn/.conda/envs/bioimg/lib/python3.10/site-packages/stardist/models/base.py\", line 1084, in _compute_receptive_field\n\n  File \"/nas/longleaf/home/seanjohn/.conda/envs/bioimg/lib/python3.10/site-packages/keras/src/utils/traceback_utils.py\", line 117, in error_handler\n\n  File \"/nas/longleaf/home/seanjohn/.conda/envs/bioimg/lib/python3.10/site-packages/keras/src/backend/tensorflow/trainer.py\", line 512, in predict\n\n  File \"/nas/longleaf/home/seanjohn/.conda/envs/bioimg/lib/python3.10/site-packages/keras/src/backend/tensorflow/trainer.py\", line 208, in one_step_on_data_distributed\n\nDNN library initialization failed. Look at the errors above for more details.\n\t [[{{node StatefulPartitionedCall}}]] [Op:__inference_one_step_on_data_distributed_973]",
     "output_type": "error",
     "traceback": [
      "\u001b[0;31m---------------------------------------------------------------------------\u001b[0m",
      "\u001b[0;31mFailedPreconditionError\u001b[0m                   Traceback (most recent call last)",
      "Input \u001b[0;32mIn [9]\u001b[0m, in \u001b[0;36m<cell line: 2>\u001b[0;34m()\u001b[0m\n\u001b[1;32m      1\u001b[0m median_size \u001b[38;5;241m=\u001b[39m calculate_extents(\u001b[38;5;28mlist\u001b[39m(Y), np\u001b[38;5;241m.\u001b[39mmedian)\n\u001b[0;32m----> 2\u001b[0m fov \u001b[38;5;241m=\u001b[39m np\u001b[38;5;241m.\u001b[39marray(\u001b[43mmodel\u001b[49m\u001b[38;5;241;43m.\u001b[39;49m\u001b[43m_axes_tile_overlap\u001b[49m\u001b[43m(\u001b[49m\u001b[38;5;124;43m'\u001b[39;49m\u001b[38;5;124;43mYX\u001b[39;49m\u001b[38;5;124;43m'\u001b[39;49m\u001b[43m)\u001b[49m)\n\u001b[1;32m      3\u001b[0m \u001b[38;5;28mprint\u001b[39m(\u001b[38;5;124mf\u001b[39m\u001b[38;5;124m\"\u001b[39m\u001b[38;5;124mmedian object size:      \u001b[39m\u001b[38;5;132;01m{\u001b[39;00mmedian_size\u001b[38;5;132;01m}\u001b[39;00m\u001b[38;5;124m\"\u001b[39m)\n\u001b[1;32m      4\u001b[0m \u001b[38;5;28mprint\u001b[39m(\u001b[38;5;124mf\u001b[39m\u001b[38;5;124m\"\u001b[39m\u001b[38;5;124mnetwork field of view :  \u001b[39m\u001b[38;5;132;01m{\u001b[39;00mfov\u001b[38;5;132;01m}\u001b[39;00m\u001b[38;5;124m\"\u001b[39m)\n",
      "File \u001b[0;32m~/.conda/envs/bioimg/lib/python3.10/site-packages/stardist/models/base.py:1105\u001b[0m, in \u001b[0;36mStarDistBase._axes_tile_overlap\u001b[0;34m(self, query_axes)\u001b[0m\n\u001b[1;32m   1103\u001b[0m     \u001b[38;5;28mself\u001b[39m\u001b[38;5;241m.\u001b[39m_tile_overlap\n\u001b[1;32m   1104\u001b[0m \u001b[38;5;28;01mexcept\u001b[39;00m \u001b[38;5;167;01mAttributeError\u001b[39;00m:\n\u001b[0;32m-> 1105\u001b[0m     \u001b[38;5;28mself\u001b[39m\u001b[38;5;241m.\u001b[39m_tile_overlap \u001b[38;5;241m=\u001b[39m \u001b[38;5;28;43mself\u001b[39;49m\u001b[38;5;241;43m.\u001b[39;49m\u001b[43m_compute_receptive_field\u001b[49m\u001b[43m(\u001b[49m\u001b[43m)\u001b[49m\n\u001b[1;32m   1106\u001b[0m overlap \u001b[38;5;241m=\u001b[39m \u001b[38;5;28mdict\u001b[39m(\u001b[38;5;28mzip\u001b[39m(\n\u001b[1;32m   1107\u001b[0m     \u001b[38;5;28mself\u001b[39m\u001b[38;5;241m.\u001b[39mconfig\u001b[38;5;241m.\u001b[39maxes\u001b[38;5;241m.\u001b[39mreplace(\u001b[38;5;124m'\u001b[39m\u001b[38;5;124mC\u001b[39m\u001b[38;5;124m'\u001b[39m,\u001b[38;5;124m'\u001b[39m\u001b[38;5;124m'\u001b[39m),\n\u001b[1;32m   1108\u001b[0m     \u001b[38;5;28mtuple\u001b[39m(\u001b[38;5;28mmax\u001b[39m(rf) \u001b[38;5;28;01mfor\u001b[39;00m rf \u001b[38;5;129;01min\u001b[39;00m \u001b[38;5;28mself\u001b[39m\u001b[38;5;241m.\u001b[39m_tile_overlap)\n\u001b[1;32m   1109\u001b[0m ))\n\u001b[1;32m   1110\u001b[0m \u001b[38;5;28;01mreturn\u001b[39;00m \u001b[38;5;28mtuple\u001b[39m(overlap\u001b[38;5;241m.\u001b[39mget(a,\u001b[38;5;241m0\u001b[39m) \u001b[38;5;28;01mfor\u001b[39;00m a \u001b[38;5;129;01min\u001b[39;00m query_axes)\n",
      "File \u001b[0;32m~/.conda/envs/bioimg/lib/python3.10/site-packages/stardist/models/base.py:1084\u001b[0m, in \u001b[0;36mStarDistBase._compute_receptive_field\u001b[0;34m(self, img_size, keras_model)\u001b[0m\n\u001b[1;32m   1082\u001b[0m z \u001b[38;5;241m=\u001b[39m np\u001b[38;5;241m.\u001b[39mzeros_like(x)\n\u001b[1;32m   1083\u001b[0m x[(\u001b[38;5;241m0\u001b[39m,)\u001b[38;5;241m+\u001b[39mmid\u001b[38;5;241m+\u001b[39m(\u001b[38;5;28mslice\u001b[39m(\u001b[38;5;28;01mNone\u001b[39;00m),)] \u001b[38;5;241m=\u001b[39m \u001b[38;5;241m1\u001b[39m\n\u001b[0;32m-> 1084\u001b[0m y  \u001b[38;5;241m=\u001b[39m \u001b[43mkeras_model\u001b[49m\u001b[38;5;241;43m.\u001b[39;49m\u001b[43mpredict\u001b[49m\u001b[43m(\u001b[49m\u001b[43mx\u001b[49m\u001b[43m,\u001b[49m\u001b[43m \u001b[49m\u001b[43mverbose\u001b[49m\u001b[38;5;241;43m=\u001b[39;49m\u001b[38;5;241;43m0\u001b[39;49m\u001b[43m)\u001b[49m[\u001b[38;5;241m0\u001b[39m][\u001b[38;5;241m0\u001b[39m,\u001b[38;5;241m.\u001b[39m\u001b[38;5;241m.\u001b[39m\u001b[38;5;241m.\u001b[39m,\u001b[38;5;241m0\u001b[39m]\n\u001b[1;32m   1085\u001b[0m y0 \u001b[38;5;241m=\u001b[39m keras_model\u001b[38;5;241m.\u001b[39mpredict(z, verbose\u001b[38;5;241m=\u001b[39m\u001b[38;5;241m0\u001b[39m)[\u001b[38;5;241m0\u001b[39m][\u001b[38;5;241m0\u001b[39m,\u001b[38;5;241m.\u001b[39m\u001b[38;5;241m.\u001b[39m\u001b[38;5;241m.\u001b[39m,\u001b[38;5;241m0\u001b[39m]\n\u001b[1;32m   1086\u001b[0m grid \u001b[38;5;241m=\u001b[39m \u001b[38;5;28mtuple\u001b[39m((np\u001b[38;5;241m.\u001b[39marray(x\u001b[38;5;241m.\u001b[39mshape[\u001b[38;5;241m1\u001b[39m:\u001b[38;5;241m-\u001b[39m\u001b[38;5;241m1\u001b[39m])\u001b[38;5;241m/\u001b[39mnp\u001b[38;5;241m.\u001b[39marray(y\u001b[38;5;241m.\u001b[39mshape))\u001b[38;5;241m.\u001b[39mastype(\u001b[38;5;28mint\u001b[39m))\n",
      "File \u001b[0;32m~/.conda/envs/bioimg/lib/python3.10/site-packages/keras/src/utils/traceback_utils.py:122\u001b[0m, in \u001b[0;36mfilter_traceback.<locals>.error_handler\u001b[0;34m(*args, **kwargs)\u001b[0m\n\u001b[1;32m    119\u001b[0m     filtered_tb \u001b[38;5;241m=\u001b[39m _process_traceback_frames(e\u001b[38;5;241m.\u001b[39m__traceback__)\n\u001b[1;32m    120\u001b[0m     \u001b[38;5;66;03m# To get the full stack trace, call:\u001b[39;00m\n\u001b[1;32m    121\u001b[0m     \u001b[38;5;66;03m# `keras.config.disable_traceback_filtering()`\u001b[39;00m\n\u001b[0;32m--> 122\u001b[0m     \u001b[38;5;28;01mraise\u001b[39;00m e\u001b[38;5;241m.\u001b[39mwith_traceback(filtered_tb) \u001b[38;5;28;01mfrom\u001b[39;00m \u001b[38;5;28;01mNone\u001b[39;00m\n\u001b[1;32m    123\u001b[0m \u001b[38;5;28;01mfinally\u001b[39;00m:\n\u001b[1;32m    124\u001b[0m     \u001b[38;5;28;01mdel\u001b[39;00m filtered_tb\n",
      "File \u001b[0;32m~/.conda/envs/bioimg/lib/python3.10/site-packages/tensorflow/python/eager/execute.py:53\u001b[0m, in \u001b[0;36mquick_execute\u001b[0;34m(op_name, num_outputs, inputs, attrs, ctx, name)\u001b[0m\n\u001b[1;32m     51\u001b[0m \u001b[38;5;28;01mtry\u001b[39;00m:\n\u001b[1;32m     52\u001b[0m   ctx\u001b[38;5;241m.\u001b[39mensure_initialized()\n\u001b[0;32m---> 53\u001b[0m   tensors \u001b[38;5;241m=\u001b[39m pywrap_tfe\u001b[38;5;241m.\u001b[39mTFE_Py_Execute(ctx\u001b[38;5;241m.\u001b[39m_handle, device_name, op_name,\n\u001b[1;32m     54\u001b[0m                                       inputs, attrs, num_outputs)\n\u001b[1;32m     55\u001b[0m \u001b[38;5;28;01mexcept\u001b[39;00m core\u001b[38;5;241m.\u001b[39m_NotOkStatusException \u001b[38;5;28;01mas\u001b[39;00m e:\n\u001b[1;32m     56\u001b[0m   \u001b[38;5;28;01mif\u001b[39;00m name \u001b[38;5;129;01mis\u001b[39;00m \u001b[38;5;129;01mnot\u001b[39;00m \u001b[38;5;28;01mNone\u001b[39;00m:\n",
      "\u001b[0;31mFailedPreconditionError\u001b[0m: Graph execution error:\n\nDetected at node StatefulPartitionedCall defined at (most recent call last):\n  File \"/nas/longleaf/home/seanjohn/.conda/envs/bioimg/lib/python3.10/runpy.py\", line 196, in _run_module_as_main\n\n  File \"/nas/longleaf/home/seanjohn/.conda/envs/bioimg/lib/python3.10/runpy.py\", line 86, in _run_code\n\n  File \"/nas/longleaf/home/seanjohn/.conda/envs/bioimg/lib/python3.10/site-packages/ipykernel_launcher.py\", line 16, in <module>\n\n  File \"/nas/longleaf/home/seanjohn/.conda/envs/bioimg/lib/python3.10/site-packages/traitlets/config/application.py\", line 846, in launch_instance\n\n  File \"/nas/longleaf/home/seanjohn/.conda/envs/bioimg/lib/python3.10/site-packages/ipykernel/kernelapp.py\", line 677, in start\n\n  File \"/nas/longleaf/home/seanjohn/.conda/envs/bioimg/lib/python3.10/site-packages/tornado/platform/asyncio.py\", line 199, in start\n\n  File \"/nas/longleaf/home/seanjohn/.conda/envs/bioimg/lib/python3.10/asyncio/base_events.py\", line 600, in run_forever\n\n  File \"/nas/longleaf/home/seanjohn/.conda/envs/bioimg/lib/python3.10/asyncio/base_events.py\", line 1896, in _run_once\n\n  File \"/nas/longleaf/home/seanjohn/.conda/envs/bioimg/lib/python3.10/asyncio/events.py\", line 80, in _run\n\n  File \"/nas/longleaf/home/seanjohn/.conda/envs/bioimg/lib/python3.10/site-packages/ipykernel/kernelbase.py\", line 471, in dispatch_queue\n\n  File \"/nas/longleaf/home/seanjohn/.conda/envs/bioimg/lib/python3.10/site-packages/ipykernel/kernelbase.py\", line 460, in process_one\n\n  File \"/nas/longleaf/home/seanjohn/.conda/envs/bioimg/lib/python3.10/site-packages/ipykernel/kernelbase.py\", line 367, in dispatch_shell\n\n  File \"/nas/longleaf/home/seanjohn/.conda/envs/bioimg/lib/python3.10/site-packages/ipykernel/kernelbase.py\", line 662, in execute_request\n\n  File \"/nas/longleaf/home/seanjohn/.conda/envs/bioimg/lib/python3.10/site-packages/ipykernel/ipkernel.py\", line 360, in do_execute\n\n  File \"/nas/longleaf/home/seanjohn/.conda/envs/bioimg/lib/python3.10/site-packages/ipykernel/zmqshell.py\", line 532, in run_cell\n\n  File \"/nas/longleaf/home/seanjohn/.conda/envs/bioimg/lib/python3.10/site-packages/IPython/core/interactiveshell.py\", line 2881, in run_cell\n\n  File \"/nas/longleaf/home/seanjohn/.conda/envs/bioimg/lib/python3.10/site-packages/IPython/core/interactiveshell.py\", line 2936, in _run_cell\n\n  File \"/nas/longleaf/home/seanjohn/.conda/envs/bioimg/lib/python3.10/site-packages/IPython/core/async_helpers.py\", line 129, in _pseudo_sync_runner\n\n  File \"/nas/longleaf/home/seanjohn/.conda/envs/bioimg/lib/python3.10/site-packages/IPython/core/interactiveshell.py\", line 3135, in run_cell_async\n\n  File \"/nas/longleaf/home/seanjohn/.conda/envs/bioimg/lib/python3.10/site-packages/IPython/core/interactiveshell.py\", line 3338, in run_ast_nodes\n\n  File \"/nas/longleaf/home/seanjohn/.conda/envs/bioimg/lib/python3.10/site-packages/IPython/core/interactiveshell.py\", line 3398, in run_code\n\n  File \"/tmp/ipykernel_1149825/2119120405.py\", line 2, in <cell line: 2>\n\n  File \"/nas/longleaf/home/seanjohn/.conda/envs/bioimg/lib/python3.10/site-packages/stardist/models/base.py\", line 1105, in _axes_tile_overlap\n\n  File \"/nas/longleaf/home/seanjohn/.conda/envs/bioimg/lib/python3.10/site-packages/stardist/models/base.py\", line 1084, in _compute_receptive_field\n\n  File \"/nas/longleaf/home/seanjohn/.conda/envs/bioimg/lib/python3.10/site-packages/keras/src/utils/traceback_utils.py\", line 117, in error_handler\n\n  File \"/nas/longleaf/home/seanjohn/.conda/envs/bioimg/lib/python3.10/site-packages/keras/src/backend/tensorflow/trainer.py\", line 512, in predict\n\n  File \"/nas/longleaf/home/seanjohn/.conda/envs/bioimg/lib/python3.10/site-packages/keras/src/backend/tensorflow/trainer.py\", line 208, in one_step_on_data_distributed\n\nDNN library initialization failed. Look at the errors above for more details.\n\t [[{{node StatefulPartitionedCall}}]] [Op:__inference_one_step_on_data_distributed_973]"
     ]
    }
   ],
   "source": [
    "median_size = calculate_extents(list(Y), np.median)\n",
    "fov = np.array(model._axes_tile_overlap('YX'))\n",
    "print(f\"median object size:      {median_size}\")\n",
    "print(f\"network field of view :  {fov}\")\n",
    "if any(median_size > fov):\n",
    "    print(\"WARNING: median object size larger than field of view of the neural network.\")"
   ]
  },
  {
   "cell_type": "code",
   "execution_count": null,
   "id": "b78eea05-63ae-45cd-8b42-2471d8b8c122",
   "metadata": {},
   "outputs": [],
   "source": []
  }
 ],
 "metadata": {
  "kernelspec": {
   "display_name": "Python 3 (ipykernel)",
   "language": "python",
   "name": "python3"
  },
  "language_info": {
   "codemirror_mode": {
    "name": "ipython",
    "version": 3
   },
   "file_extension": ".py",
   "mimetype": "text/x-python",
   "name": "python",
   "nbconvert_exporter": "python",
   "pygments_lexer": "ipython3",
   "version": "3.9.7"
  }
 },
 "nbformat": 4,
 "nbformat_minor": 5
}
